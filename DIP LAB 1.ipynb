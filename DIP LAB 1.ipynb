{
 "cells": [
  {
   "cell_type": "markdown",
   "metadata": {},
   "source": [
    "# Write a small Hello World Program in python"
   ]
  },
  {
   "cell_type": "code",
   "execution_count": 1,
   "metadata": {
    "collapsed": false
   },
   "outputs": [
    {
     "name": "stdout",
     "output_type": "stream",
     "text": [
      "Hello World\n"
     ]
    }
   ],
   "source": [
    "print(\"Hello World\")"
   ]
  },
  {
   "cell_type": "markdown",
   "metadata": {},
   "source": [
    "# Write a small program in Python to print your CV"
   ]
  },
  {
   "cell_type": "code",
   "execution_count": 2,
   "metadata": {
    "collapsed": false
   },
   "outputs": [
    {
     "name": "stdout",
     "output_type": "stream",
     "text": [
      "Enter Name:Muhammad Iqtada Kamal\n",
      "Enter Age:22\n",
      "Enter Degree:Bs(CS)\n",
      "Enter Phone Number:03406882795\n",
      "Enter Adress:b-413,bisma Residency,block-13,Gulistan-e-Johar,Karachi\n",
      "**********************************************************\n",
      "Name: Muhammad Iqtada Kamal\n",
      "Agfe: 22\n",
      "Adress: b-413,bisma Residency,block-13,Gulistan-e-Johar,Karachi\n",
      "Phone Number: 3406882795\n",
      "Degree: Bs(CS)\n",
      "**********************************************************\n"
     ]
    }
   ],
   "source": [
    "name = (input(\"Enter Name:\"))\n",
    "age = int(input(\"Enter Age:\"))\n",
    "Degree = (input(\"Enter Degree:\"))\n",
    "Number = int(input(\"Enter Phone Number:\"))\n",
    "address = (input(\"Enter Adress:\"))\n",
    "\n",
    "print(\"**********************************************************\")\n",
    "print(\"Name:\",name)\n",
    "print(\"Agfe:\",age)\n",
    "print(\"Adress:\",address)\n",
    "print(\"Phone Number:\",Number)\n",
    "print(\"Degree:\",Degree)\n",
    "print(\"**********************************************************\")"
   ]
  },
  {
   "cell_type": "markdown",
   "metadata": {},
   "source": [
    "# Write a program that takes the month (1…12) as input. Print whether the season is summer, winter, spring or autumn depending upon the input month"
   ]
  },
  {
   "cell_type": "code",
   "execution_count": 3,
   "metadata": {
    "collapsed": false
   },
   "outputs": [
    {
     "name": "stdout",
     "output_type": "stream",
     "text": [
      "Enter the month:3\n",
      "Winter\n"
     ]
    }
   ],
   "source": [
    "month= int(input(\"Enter the month:\"))\n",
    "if month>=1 | month<=3:\n",
    "    print(\"Winter\")\n",
    "elif month>=4 | month<=6:\n",
    "    print(\"Spring\")\n",
    "elif month>=6 | month<=9:\n",
    "    print(\"Summer\")\n",
    "elif month>=9 | month<=12:\n",
    "    print(\"Autumn\")\n",
    "else:\n",
    "    print(\"Error This is not a month please take a input 1-12\")"
   ]
  },
  {
   "cell_type": "markdown",
   "metadata": {},
   "source": [
    "# To determine whether a year is a leap year, follow these steps:\n",
    "1.\tIf the year is evenly divisible by 4, go to step 2. Otherwise, go to step 5.\n",
    "2.\tIf the year is evenly divisible by 100, go to step 3. Otherwise, go to step 4.\n",
    "3.\tIf the year is evenly divisible by 400, go to step 4. Otherwise, go to step 5.\n",
    "4.\tThe year is a leap year (it has 366 days).\n",
    "5.\tThe year is not a leap year (it has 365 days).\n",
    "\n",
    "Write a program to input an year as integer. Using if…else, determines whether the input is a leap year or not.\n"
   ]
  },
  {
   "cell_type": "code",
   "execution_count": 4,
   "metadata": {
    "collapsed": false
   },
   "outputs": [
    {
     "name": "stdout",
     "output_type": "stream",
     "text": [
      "Enter Year:2016\n",
      "LEAP YEAR\n"
     ]
    }
   ],
   "source": [
    "x = int(input(\"Enter Year:\"))\n",
    "if x%4==0:\n",
    "    if(x%100==0):\n",
    "        if(x%400==0):\n",
    "            print(\"LEAP YEAR\")\n",
    "        else:\n",
    "          print(\"NOT A LEAP YEAR\")\n",
    "    else:\n",
    "           print(\"LEAP YEAR\")\n",
    "else:\n",
    "     print(\"NOT A LEAP YEAR\")"
   ]
  },
  {
   "cell_type": "markdown",
   "metadata": {},
   "source": [
    "# Write a simple Calculator in python"
   ]
  },
  {
   "cell_type": "code",
   "execution_count": 5,
   "metadata": {
    "collapsed": false
   },
   "outputs": [
    {
     "name": "stdout",
     "output_type": "stream",
     "text": [
      "Enter Number 1:2\n",
      "Enter Number 2:2\n",
      "Enter Operator:+\n",
      "4\n"
     ]
    }
   ],
   "source": [
    "x = int(input(\"Enter Number 1:\"))\n",
    "y = int(input(\"Enter Number 2:\"))\n",
    "z = (input(\"Enter Operator:\"))\n",
    "if z == '+':\n",
    "    print(x+y)\n",
    "elif z == '-':\n",
    "    print(x-y)\n",
    "elif z == '/':\n",
    "    print(x/y)\n",
    "elif z == '*':\n",
    "    print(x*y)"
   ]
  },
  {
   "cell_type": "markdown",
   "metadata": {},
   "source": [
    "# Write a program to Check Whether a Number is Even or Odd"
   ]
  },
  {
   "cell_type": "code",
   "execution_count": 6,
   "metadata": {
    "collapsed": false
   },
   "outputs": [
    {
     "name": "stdout",
     "output_type": "stream",
     "text": [
      "Enter the number:10\n",
      "Even\n"
     ]
    }
   ],
   "source": [
    "x= int(input(\"Enter the number:\"))\n",
    "if  x%2 == 0 :\n",
    "    print (\"Even\")\n",
    "else:\n",
    "    print(\"Odd\")"
   ]
  },
  {
   "cell_type": "markdown",
   "metadata": {},
   "source": [
    "# Write a program that takes two number as input and calculate the sum of two numbers"
   ]
  },
  {
   "cell_type": "code",
   "execution_count": 7,
   "metadata": {
    "collapsed": false
   },
   "outputs": [
    {
     "name": "stdout",
     "output_type": "stream",
     "text": [
      "Enter Number 1:5\n",
      "Enter Number 2:5\n",
      "Answer is: 10\n"
     ]
    }
   ],
   "source": [
    "x = int (input(\"Enter Number 1:\"))\n",
    "y = int (input(\"Enter Number 2:\"))\n",
    "\n",
    "z = x+y\n",
    "print(\"Answer is:\",z)"
   ]
  },
  {
   "cell_type": "markdown",
   "metadata": {},
   "source": [
    "# Write a program to print 1 to 100 odd numbers using while loop"
   ]
  },
  {
   "cell_type": "code",
   "execution_count": 8,
   "metadata": {
    "collapsed": false
   },
   "outputs": [
    {
     "name": "stdout",
     "output_type": "stream",
     "text": [
      "ODD number: 1\n",
      "ODD number: 3\n",
      "ODD number: 5\n",
      "ODD number: 7\n",
      "ODD number: 9\n",
      "ODD number: 11\n",
      "ODD number: 13\n",
      "ODD number: 15\n",
      "ODD number: 17\n",
      "ODD number: 19\n",
      "ODD number: 21\n",
      "ODD number: 23\n",
      "ODD number: 25\n",
      "ODD number: 27\n",
      "ODD number: 29\n",
      "ODD number: 31\n",
      "ODD number: 33\n",
      "ODD number: 35\n",
      "ODD number: 37\n",
      "ODD number: 39\n",
      "ODD number: 41\n",
      "ODD number: 43\n",
      "ODD number: 45\n",
      "ODD number: 47\n",
      "ODD number: 49\n",
      "ODD number: 51\n",
      "ODD number: 53\n",
      "ODD number: 55\n",
      "ODD number: 57\n",
      "ODD number: 59\n",
      "ODD number: 61\n",
      "ODD number: 63\n",
      "ODD number: 65\n",
      "ODD number: 67\n",
      "ODD number: 69\n",
      "ODD number: 71\n",
      "ODD number: 73\n",
      "ODD number: 75\n",
      "ODD number: 77\n",
      "ODD number: 79\n",
      "ODD number: 81\n",
      "ODD number: 83\n",
      "ODD number: 85\n",
      "ODD number: 87\n",
      "ODD number: 89\n",
      "ODD number: 91\n",
      "ODD number: 93\n",
      "ODD number: 95\n",
      "ODD number: 97\n",
      "ODD number: 99\n"
     ]
    }
   ],
   "source": [
    "x = 1\n",
    "while x<=100:\n",
    "    if x%2==1:\n",
    "      print(\"ODD number:\",x)\n",
    "    x+=1"
   ]
  },
  {
   "cell_type": "markdown",
   "metadata": {},
   "source": [
    "# write a program to print 100 to 1 odd number in reverse order using list"
   ]
  },
  {
   "cell_type": "code",
   "execution_count": 9,
   "metadata": {
    "collapsed": false
   },
   "outputs": [
    {
     "name": "stdout",
     "output_type": "stream",
     "text": [
      "[99, 97, 95, 93, 91, 89, 87, 85, 83, 81, 79, 77, 75, 73, 71, 69, 67, 65, 63, 61, 59, 57, 55, 53, 51, 49, 47, 45, 43, 41, 39, 37, 35, 33, 31, 29, 27, 25, 23, 21, 19, 17, 15, 13, 11, 9, 7, 5, 3, 1]\n"
     ]
    }
   ],
   "source": [
    "print(list(range(99,0,-2)))"
   ]
  },
  {
   "cell_type": "markdown",
   "metadata": {},
   "source": [
    "# Write a program to print Hello World using slicing"
   ]
  },
  {
   "cell_type": "code",
   "execution_count": 10,
   "metadata": {
    "collapsed": false
   },
   "outputs": [
    {
     "name": "stdout",
     "output_type": "stream",
     "text": [
      "ello\n",
      "el\n",
      "HloWrd\n",
      "dlroW olleH\n"
     ]
    }
   ],
   "source": [
    "x = \"Hello World\"\n",
    "print(x[1 : 5 ])\n",
    "print(x[1 : 5 : 2])\n",
    "print(x[  :   : 2])\n",
    "print(x[10 :  : -1])"
   ]
  },
  {
   "cell_type": "markdown",
   "metadata": {},
   "source": [
    "# Write a program to print 1 to 100 numbers with the difference of 5"
   ]
  },
  {
   "cell_type": "code",
   "execution_count": 11,
   "metadata": {
    "collapsed": false
   },
   "outputs": [
    {
     "name": "stdout",
     "output_type": "stream",
     "text": [
      "[1, 6, 11, 16, 21, 26, 31, 36, 41, 46, 51, 56, 61, 66, 71, 76, 81, 86, 91, 96]\n"
     ]
    }
   ],
   "source": [
    "print(list(range(1,100,5)))"
   ]
  },
  {
   "cell_type": "code",
   "execution_count": null,
   "metadata": {
    "collapsed": true
   },
   "outputs": [],
   "source": []
  }
 ],
 "metadata": {
  "kernelspec": {
   "display_name": "Python 3",
   "language": "python",
   "name": "python3"
  },
  "language_info": {
   "codemirror_mode": {
    "name": "ipython",
    "version": 3
   },
   "file_extension": ".py",
   "mimetype": "text/x-python",
   "name": "python",
   "nbconvert_exporter": "python",
   "pygments_lexer": "ipython3",
   "version": "3.6.0"
  }
 },
 "nbformat": 4,
 "nbformat_minor": 2
}
